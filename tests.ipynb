{
 "cells": [
  {
   "cell_type": "code",
   "execution_count": 1,
   "id": "9b6d36ad",
   "metadata": {},
   "outputs": [],
   "source": [
    "import librosa\n",
    "import matplotlib.pyplot as plt\n",
    "import numpy as np"
   ]
  },
  {
   "cell_type": "code",
   "execution_count": 2,
   "id": "a46d4a2e",
   "metadata": {},
   "outputs": [],
   "source": [
    "hop_length = 512\n",
    "frame_size = 512\n",
    "audio_path = '/home/gab/Área de Trabalho/birdclef/train_audio/abethr1/XC128013.ogg'\n",
    "x, sr = librosa.load(audio_path)"
   ]
  },
  {
   "cell_type": "code",
   "execution_count": 3,
   "id": "79e2bed2",
   "metadata": {},
   "outputs": [],
   "source": [
    "S = librosa.stft(x, n_fft=frame_size, hop_length=hop_length)"
   ]
  },
  {
   "cell_type": "code",
   "execution_count": 4,
   "id": "dde0d332",
   "metadata": {},
   "outputs": [],
   "source": [
    "M = np.abs(S) # vetor de magnitudes\n",
    "f_bins = librosa.fft_frequencies(sr=sr, n_fft = frame_size) # vetor de frequencias"
   ]
  },
  {
   "cell_type": "code",
   "execution_count": 5,
   "id": "5bbdf16d",
   "metadata": {},
   "outputs": [
    {
     "data": {
      "text/plain": [
       "array([4689.98411711, 2952.29914276, 3653.89310196, ..., 4690.53689301,\n",
       "       2989.07597697, 3833.75657996])"
      ]
     },
     "execution_count": 5,
     "metadata": {},
     "output_type": "execute_result"
    }
   ],
   "source": [
    "def spectral_centroid(magnitude, frequencias):\n",
    "    centroides = np.zeros(magnitude.shape[1])\n",
    "    \n",
    "    for i in range(magnitude.shape[1]):\n",
    "        num = np.sum(frequencias*magnitude[:, i])\n",
    "        den = np.sum(magnitude[:, i])\n",
    "        \n",
    "        if den != 0:\n",
    "            centroides[i] = num / den\n",
    "        else:\n",
    "            centroides[i] = 0\n",
    "    \n",
    "    return centroides\n",
    "\n",
    "spectral_centroid(M, f_bins)\n"
   ]
  },
  {
   "cell_type": "code",
   "execution_count": 6,
   "id": "b04c8107",
   "metadata": {},
   "outputs": [
    {
     "data": {
      "text/plain": [
       "array([4689.98391365, 2952.29920089, 3653.89324244, ..., 4690.53678682,\n",
       "       2989.07608219, 3833.75685536])"
      ]
     },
     "execution_count": 6,
     "metadata": {},
     "output_type": "execute_result"
    }
   ],
   "source": [
    "librosa.feature.spectral_centroid(S=M, freq=f_bins)[0]"
   ]
  },
  {
   "cell_type": "code",
   "execution_count": 7,
   "id": "d24d99e0",
   "metadata": {},
   "outputs": [
    {
     "data": {
      "text/plain": [
       "array([8656.34765625, 7450.48828125, 7235.15625   , ..., 8957.8125    ,\n",
       "       7881.15234375, 8096.484375  ])"
      ]
     },
     "execution_count": 7,
     "metadata": {},
     "output_type": "execute_result"
    }
   ],
   "source": [
    "def spectral_rolloff(magnitude, freq, pcent = 0.85):\n",
    "    n_frames = magnitude.shape[1]\n",
    "    rolloff = np.zeros(n_frames)\n",
    "\n",
    "    for i in range(n_frames):\n",
    "        f_mag = magnitude[:, i]\n",
    "        sum = np.sum(f_mag)\n",
    "        accumulated_energy = 0.0\n",
    "\n",
    "        for j, mag in enumerate(f_mag):\n",
    "            accumulated_energy += mag\n",
    "            if accumulated_energy >= pcent * sum:\n",
    "                rolloff[i] = freq[j]\n",
    "                break\n",
    "    \n",
    "    return rolloff\n",
    "\n",
    "spectral_rolloff(M, f_bins)"
   ]
  },
  {
   "cell_type": "code",
   "execution_count": 8,
   "id": "41e4b5a1",
   "metadata": {},
   "outputs": [
    {
     "data": {
      "text/plain": [
       "array([[8656.34765625, 7450.48828125, 7235.15625   , ..., 8957.8125    ,\n",
       "        7881.15234375, 8096.484375  ]])"
      ]
     },
     "execution_count": 8,
     "metadata": {},
     "output_type": "execute_result"
    }
   ],
   "source": [
    "librosa.feature.spectral_rolloff(S=M, freq=f_bins)"
   ]
  },
  {
   "cell_type": "code",
   "execution_count": 9,
   "id": "bd79b929",
   "metadata": {},
   "outputs": [
    {
     "data": {
      "text/plain": [
       "array([24718.9765625 , 55315.4453125 , 35996.6484375 , ...,\n",
       "       17806.90429688, 23791.92578125, 58441.8671875 ])"
      ]
     },
     "execution_count": 9,
     "metadata": {},
     "output_type": "execute_result"
    }
   ],
   "source": [
    "def spectral_flux(magnitude):\n",
    "    normal_mag = librosa.amplitude_to_db(magnitude)\n",
    "    n_frames = magnitude.shape[1]\n",
    "    sf = np.zeros(n_frames)\n",
    "    \n",
    "    for i in range(n_frames):\n",
    "        sf[i] = np.sum((normal_mag[:, i] - normal_mag[:, i-1])**2)\n",
    "    return sf\n",
    "\n",
    "spectral_flux(M)"
   ]
  },
  {
   "cell_type": "code",
   "execution_count": 10,
   "id": "9198e043",
   "metadata": {},
   "outputs": [
    {
     "data": {
      "text/plain": [
       "array([55315.445, 35996.65 , 21118.71 , ..., 17806.904, 23791.926,\n",
       "       58441.867], dtype=float32)"
      ]
     },
     "execution_count": 10,
     "metadata": {},
     "output_type": "execute_result"
    }
   ],
   "source": [
    "def spectral_flux(magnitude):\n",
    "    normal_mag = librosa.amplitude_to_db(magnitude)\n",
    "    diff = np.diff(normal_mag, axis=1)\n",
    "    sf = np.sum(diff**2, axis=0)\n",
    "    return sf\n",
    "\n",
    "spectral_flux(M)"
   ]
  },
  {
   "cell_type": "code",
   "execution_count": 23,
   "id": "979beeda",
   "metadata": {},
   "outputs": [
    {
     "data": {
      "text/plain": [
       "array([104.5,  71.5,  74. , ...,  63. ,  47. ,   6.5])"
      ]
     },
     "execution_count": 23,
     "metadata": {},
     "output_type": "execute_result"
    }
   ],
   "source": [
    "def sign(arg):\n",
    "    if arg >= 0:\n",
    "        return 1\n",
    "    return 0\n",
    "\n",
    "def time_domain_zero_crossings(signal, frame_size):\n",
    "    sign_array_function = np.vectorize(sign)\n",
    "    sign_array = sign_array_function(signal)\n",
    "    zt = np.zeros((len(signal) + frame_size - 1) // frame_size)\n",
    "    \n",
    "    for t in range(0, len(signal), frame_size):\n",
    "        frame = signal[t : t + frame_size]\n",
    "        diff = np.abs(np.diff(sign_array[t : t + frame_size]))\n",
    "        crossings = np.sum(diff)\n",
    "        zt[t // frame_size] = 0.5 * crossings\n",
    "    \n",
    "    return zt\n",
    "\n",
    "time_domain_zero_crossings(x, frame_size)"
   ]
  },
  {
   "cell_type": "code",
   "execution_count": 33,
   "id": "d09b95d9",
   "metadata": {},
   "outputs": [
    {
     "data": {
      "text/plain": [
       "87.2264631043257"
      ]
     },
     "execution_count": 33,
     "metadata": {},
     "output_type": "execute_result"
    }
   ],
   "source": [
    "def low_energy(signal, frame_size):\n",
    "    rms = np.zeros((len(signal) + frame_size - 1) // frame_size)\n",
    "    \n",
    "    for t in range(0, len(signal), frame_size):\n",
    "        frame = signal[t : t + frame_size]\n",
    "        square = np.square(frame)\n",
    "        mean_square = np.mean(square)\n",
    "        rms[t // frame_size] = np.sqrt(mean_square)\n",
    "    \n",
    "    avg_rms = np.mean(rms)\n",
    "    low_energy_count = np.sum(rms < avg_rms)\n",
    "    total_windows = len(rms)\n",
    "    low_energy_percentage = low_energy_count / total_windows * 100\n",
    "    \n",
    "    return low_energy_percentage\n",
    "\n",
    "low_energy(x, frame_size)"
   ]
  },
  {
   "cell_type": "code",
   "execution_count": 14,
   "id": "a9166161",
   "metadata": {},
   "outputs": [
    {
     "data": {
      "text/plain": [
       "array([[-7.2047156e+02, -5.0806726e+02, -4.4377539e+02, ...,\n",
       "        -4.7200241e+02, -4.1448135e+02, -5.9052924e+02],\n",
       "       [ 0.0000000e+00,  7.7803917e+01,  1.4349536e+01, ...,\n",
       "         1.5689369e+00,  6.1597099e+01,  2.8675579e+01],\n",
       "       [ 0.0000000e+00,  3.1201195e+01,  4.0430775e-01, ...,\n",
       "        -5.6525631e+00,  3.0952339e+01,  1.0882376e+01],\n",
       "       [ 0.0000000e+00,  2.9159851e+01,  2.0130863e+01, ...,\n",
       "         1.3992163e+01,  2.8165968e+01,  3.4795479e+01],\n",
       "       [ 0.0000000e+00,  1.3773541e+01, -3.3239133e+00, ...,\n",
       "         1.5036448e+01,  2.0941603e+01,  3.2032043e+01]], dtype=float32)"
      ]
     },
     "execution_count": 14,
     "metadata": {},
     "output_type": "execute_result"
    }
   ],
   "source": [
    "mel_spec = librosa.feature.melspectrogram(y=x, sr=sr, n_fft=frame_size, hop_length=hop_length)\n",
    "mfccs = librosa.feature.mfcc(S=librosa.power_to_db(mel_spec), n_mfcc=5)\n",
    "mfccs"
   ]
  },
  {
   "cell_type": "code",
   "execution_count": 30,
   "id": "119011d8",
   "metadata": {},
   "outputs": [],
   "source": [
    "def texture_window(analysis_windows, n=43):\n",
    "    \n",
    "    w = np.lib.stride_tricks.sliding_window_view(analysis_windows, window_shape=(n,))\n",
    "    means = np.mean(w, axis=1)\n",
    "    variances = np.var(w, axis=1)\n",
    "    \n",
    "    return np.mean(means), np.var(variances)"
   ]
  },
  {
   "cell_type": "code",
   "execution_count": 39,
   "id": "801df315",
   "metadata": {},
   "outputs": [
    {
     "data": {
      "text/plain": [
       "array([-4.52008209e+02,  9.21541094e+04,  3.86678755e-01,  7.01175078e+04,\n",
       "       -1.32696609e+01,  4.41765742e+04,  4.12331486e+00,  1.23858750e+04,\n",
       "        5.51054478e-01,  4.69406484e+04,  4.21191507e+03,  6.79293907e+10,\n",
       "        8.01719779e+03,  6.09582370e+12,  1.76443066e+04,  4.55652544e+14,\n",
       "        7.01478008e+01,  1.28515989e+04,  8.72264631e+01])"
      ]
     },
     "execution_count": 39,
     "metadata": {},
     "output_type": "execute_result"
    }
   ],
   "source": [
    "#label = \"label\"\n",
    "y, sr = librosa.load(audio_path)\n",
    "S = librosa.stft(y, n_fft=frame_size, hop_length=hop_length)\n",
    "M = np.abs(S) # vetor de magnitudes\n",
    "f_bins = librosa.fft_frequencies(sr=sr, n_fft = frame_size) # vetor de frequencias\n",
    "\n",
    "features = np.array([])\n",
    "\n",
    "mel_spec = librosa.feature.melspectrogram(y=y, sr=sr, n_fft=frame_size, hop_length=hop_length)\n",
    "\n",
    "mfccs = librosa.feature.mfcc(S=librosa.power_to_db(mel_spec), n_mfcc=5)\n",
    "s_centroid = spectral_centroid(M, f_bins)\n",
    "s_rolloff = spectral_rolloff(M, f_bins)\n",
    "s_flux = spectral_flux(M)\n",
    "zc = time_domain_zero_crossings(y, frame_size)\n",
    "low_energy_feature = low_energy(y, frame_size)\n",
    "\n",
    "for mfcc in mfccs:\n",
    "    texture_mean, texture_var = texture_window(mfcc)\n",
    "    features = np.append(features, texture_mean)\n",
    "    features = np.append(features, texture_var)\n",
    "\n",
    "centroid_mean, centroid_var = texture_window(s_centroid)\n",
    "features = np.append(features, centroid_mean)\n",
    "features = np.append(features, centroid_var)\n",
    "\n",
    "rolloff_mean, rolloff_var = texture_window(s_rolloff)\n",
    "features = np.append(features, rolloff_mean)\n",
    "features = np.append(features, rolloff_var)\n",
    "\n",
    "flux_mean, flux_var = texture_window(s_flux)\n",
    "features = np.append(features, flux_mean)\n",
    "features = np.append(features, flux_var)\n",
    "\n",
    "zc_mean, zc_var = texture_window(zc)\n",
    "features = np.append(features, zc_mean)\n",
    "features = np.append(features, zc_var)\n",
    "\n",
    "features = np.append(features, low_energy_feature)\n",
    "\n",
    "#features = np.append(features, label)\n",
    "\n",
    "features"
   ]
  },
  {
   "cell_type": "code",
   "execution_count": null,
   "id": "58d4a99b",
   "metadata": {},
   "outputs": [],
   "source": []
  }
 ],
 "metadata": {
  "kernelspec": {
   "display_name": "Python 3 (ipykernel)",
   "language": "python",
   "name": "python3"
  },
  "language_info": {
   "codemirror_mode": {
    "name": "ipython",
    "version": 3
   },
   "file_extension": ".py",
   "mimetype": "text/x-python",
   "name": "python",
   "nbconvert_exporter": "python",
   "pygments_lexer": "ipython3",
   "version": "3.9.13"
  }
 },
 "nbformat": 4,
 "nbformat_minor": 5
}
